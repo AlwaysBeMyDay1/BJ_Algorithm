{
 "cells": [
  {
   "attachments": {},
   "cell_type": "markdown",
   "metadata": {},
   "source": [
    "### 순서쌍\n",
    "##### 문제 설명\n",
    "순서쌍이란 두 개의 숫자를 순서를 정하여 짝지어 나타낸 쌍으로 (a, b)로 표기합니다. 자연수 n이 매개변수로 주어질 때 두 숫자의 곱이 n인 자연수 순서쌍의 개수를 return하도록 solution 함수를 완성해주세요.\n",
    "\n",
    "##### 제한사항\n",
    "1 ≤ n ≤ 1,000,000\n",
    "\n",
    "##### 입출력 예\n",
    "|n|result|\n",
    "|-|-|\n",
    "|20|6|\n",
    "|100|9|"
   ]
  },
  {
   "cell_type": "code",
   "execution_count": 7,
   "metadata": {},
   "outputs": [
    {
     "name": "stdout",
     "output_type": "stream",
     "text": [
      "[(1, 20.0), (2, 10.0), (4, 5.0), (5, 4.0), (10, 2.0), (20, 1.0)]\n",
      "6\n",
      "[(1, 100.0), (2, 50.0), (4, 25.0), (5, 20.0), (10, 10.0), (20, 5.0), (25, 4.0), (50, 2.0), (100, 1.0)]\n",
      "9\n",
      "[(1, 19.0), (19, 1.0)]\n",
      "2\n"
     ]
    }
   ],
   "source": [
    "# vers.1\n",
    "def solution(n):\n",
    "    ordered_pair = []\n",
    "    for i in range(0, n):\n",
    "        if n % (i + 1) == 0:\n",
    "            ordered_pair.append(((i + 1), n / (i + 1)))\n",
    "    print(ordered_pair)\n",
    "    return len(ordered_pair)\n",
    "\n",
    "print(solution(20))\n",
    "print(solution(100))\n",
    "print(solution(19))"
   ]
  },
  {
   "cell_type": "code",
   "execution_count": 16,
   "metadata": {},
   "outputs": [
    {
     "name": "stdout",
     "output_type": "stream",
     "text": [
      "6\n",
      "9\n",
      "2\n"
     ]
    }
   ],
   "source": [
    "# vers.2 with lambda\n",
    "def solution(n):\n",
    "    return len(list(filter(lambda i: n % i == 0, range(1, n + 1))))\n",
    "\n",
    "print(solution(20))\n",
    "print(solution(100))\n",
    "print(solution(19))"
   ]
  }
 ],
 "metadata": {
  "kernelspec": {
   "display_name": "Python 3",
   "language": "python",
   "name": "python3"
  },
  "language_info": {
   "codemirror_mode": {
    "name": "ipython",
    "version": 3
   },
   "file_extension": ".py",
   "mimetype": "text/x-python",
   "name": "python",
   "nbconvert_exporter": "python",
   "pygments_lexer": "ipython3",
   "version": "3.10.9"
  },
  "orig_nbformat": 4,
  "vscode": {
   "interpreter": {
    "hash": "289875fdc8c4a136dc00cf3b2d1981cae4a14e1f2e4e26c543272292905058a0"
   }
  }
 },
 "nbformat": 4,
 "nbformat_minor": 2
}
