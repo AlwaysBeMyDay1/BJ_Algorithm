{
 "cells": [
  {
   "attachments": {},
   "cell_type": "markdown",
   "metadata": {},
   "source": [
    "### 합성수 (composite number) 찾기\n",
    "##### 문제 설명\n",
    "약수의 개수가 세 개 이상인 수를 합성수라고 합니다. 자연수 n이 매개변수로 주어질 때 n이하의 합성수의 개수를 return하도록 solution 함수를 완성해주세요.\n",
    "\n",
    "##### 제한사항\n",
    "1 ≤ n ≤ 100\n",
    "\n",
    "##### 입출력 예\n",
    "|n|result|\n",
    "|-|------|\n",
    "|10|5|\n",
    "|15|8|"
   ]
  },
  {
   "cell_type": "code",
   "execution_count": 1,
   "metadata": {},
   "outputs": [
    {
     "data": {
      "text/plain": [
       "5"
      ]
     },
     "execution_count": 1,
     "metadata": {},
     "output_type": "execute_result"
    }
   ],
   "source": [
    "def solution(n):\n",
    "    answer = []\n",
    "    # n 이하 돌면서\n",
    "    for i in range(1, n + 1):\n",
    "        # 약수 개수 계산하기\n",
    "        result_list = [a for a in range(1, i + 1) if i % a == 0]\n",
    "        # 약수 개수 세 개 이상이면 answer 배열에 추가\n",
    "        if len(result_list) >= 3:\n",
    "            answer.append(i)\n",
    "    return len(answer)\n",
    "\n",
    "solution(10)"
   ]
  }
 ],
 "metadata": {
  "kernelspec": {
   "display_name": "Python 3",
   "language": "python",
   "name": "python3"
  },
  "language_info": {
   "codemirror_mode": {
    "name": "ipython",
    "version": 3
   },
   "file_extension": ".py",
   "mimetype": "text/x-python",
   "name": "python",
   "nbconvert_exporter": "python",
   "pygments_lexer": "ipython3",
   "version": "3.10.9"
  },
  "orig_nbformat": 4,
  "vscode": {
   "interpreter": {
    "hash": "289875fdc8c4a136dc00cf3b2d1981cae4a14e1f2e4e26c543272292905058a0"
   }
  }
 },
 "nbformat": 4,
 "nbformat_minor": 2
}
