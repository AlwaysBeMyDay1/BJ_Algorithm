{
 "cells": [
  {
   "attachments": {},
   "cell_type": "markdown",
   "metadata": {},
   "source": [
    "## 피자 분배\n",
    "\n",
    "##### 문제 설명\n",
    "머쓱이네 피자가게는 피자를 여섯 조각으로 잘라 줍니다. 피자를 나눠먹을 사람의 수 n이 매개변수로 주어질 때, n명이 주문한 피자를 남기지 않고 모두 같은 수의 피자 조각을 먹어야 한다면 최소 몇 판을 시켜야 하는지를 return 하도록 solution 함수를 완성해보세요.\n",
    "\n",
    "##### 제한사항\n",
    "1 ≤ n ≤ 100\n",
    "\n",
    "##### 입출력 예\n",
    "n / result\n",
    "\n",
    "6 / 1\n",
    "\n",
    "10 / 5\n",
    "\n",
    "4 / 2"
   ]
  },
  {
   "cell_type": "code",
   "execution_count": 15,
   "metadata": {},
   "outputs": [
    {
     "data": {
      "text/plain": [
       "5"
      ]
     },
     "execution_count": 15,
     "metadata": {},
     "output_type": "execute_result"
    }
   ],
   "source": [
    "# vers.1 (my vers.)\n",
    "\n",
    "def lcm(a, b):\n",
    "    big_num = [i * b for i in range(1, b + 1)]\n",
    "    small_num = [i * a for i in range(1, b + 1)]\n",
    "    \n",
    "    for i in big_num:\n",
    "        if i in small_num: return i\n",
    "\n",
    "def solution(n):\n",
    "    return lcm(min(n, 6), max(n, 6)) // 6\n",
    "\n",
    "solution(10)\n"
   ]
  },
  {
   "cell_type": "code",
   "execution_count": 26,
   "metadata": {},
   "outputs": [
    {
     "data": {
      "text/plain": [
       "5"
      ]
     },
     "execution_count": 26,
     "metadata": {},
     "output_type": "execute_result"
    }
   ],
   "source": [
    "# vers.2 (https://computer-science-student.tistory.com/585 참고)\n",
    "\n",
    "def lcm(a, b):\n",
    "    for i in range(max(a, b), (a * b) + 1):\n",
    "        if i % a == 0 and i % b == 0:\n",
    "            return i\n",
    "\n",
    "def solution(n):\n",
    "    return lcm(n, 6) // 6\n",
    "\n",
    "solution(10)"
   ]
  },
  {
   "cell_type": "code",
   "execution_count": 16,
   "metadata": {},
   "outputs": [
    {
     "data": {
      "text/plain": [
       "5"
      ]
     },
     "execution_count": 16,
     "metadata": {},
     "output_type": "execute_result"
    }
   ],
   "source": [
    "# vers.3\n",
    "\n",
    "def solution(n):\n",
    "    answer = 1\n",
    "    while (6 * answer) % n != 0:\n",
    "        answer += 1\n",
    "    return answer\n",
    "\n",
    "solution(10)"
   ]
  }
 ],
 "metadata": {
  "kernelspec": {
   "display_name": "Python 3",
   "language": "python",
   "name": "python3"
  },
  "language_info": {
   "codemirror_mode": {
    "name": "ipython",
    "version": 3
   },
   "file_extension": ".py",
   "mimetype": "text/x-python",
   "name": "python",
   "nbconvert_exporter": "python",
   "pygments_lexer": "ipython3",
   "version": "3.10.9"
  },
  "orig_nbformat": 4,
  "vscode": {
   "interpreter": {
    "hash": "289875fdc8c4a136dc00cf3b2d1981cae4a14e1f2e4e26c543272292905058a0"
   }
  }
 },
 "nbformat": 4,
 "nbformat_minor": 2
}
