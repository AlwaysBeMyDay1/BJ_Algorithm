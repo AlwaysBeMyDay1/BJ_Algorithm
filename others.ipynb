{
 "cells": [
  {
   "cell_type": "code",
   "execution_count": 1,
   "metadata": {},
   "outputs": [
    {
     "data": {
      "text/plain": [
       "11"
      ]
     },
     "execution_count": 1,
     "metadata": {},
     "output_type": "execute_result"
    }
   ],
   "source": [
    "# 숨어있는 숫자의 덧셈 (isdigit())\n",
    "\n",
    "# vers.1\n",
    "def solution(my_string):\n",
    "    result_list = []\n",
    "    for i in my_string:\n",
    "        try:\n",
    "            result_list.append(int(i))\n",
    "        except:\n",
    "            pass\n",
    "    return sum(result_list)\n",
    "\n",
    "#vers.2\n",
    "def solution_two(my_string):\n",
    "    return sum([int(i) for i in my_string if i.isdigit()])\n",
    "\n",
    "solution_two(\"ab24md5\")"
   ]
  },
  {
   "cell_type": "code",
   "execution_count": 5,
   "metadata": {},
   "outputs": [
    {
     "data": {
      "text/plain": [
       "[3, 5, 5, 4, 2, 2, 1, 1]"
      ]
     },
     "execution_count": 5,
     "metadata": {},
     "output_type": "execute_result"
    }
   ],
   "source": [
    "def solution(num_list):\n",
    "    reversed_list = []\n",
    "    for i in range(len(num_list) - 1, -1 ,-1):\n",
    "        reversed_list.append(num_list[i])\n",
    "    return reversed_list\n",
    "\n",
    "solution([1,1,2,2,4,5,5,3])"
   ]
  },
  {
   "cell_type": "code",
   "execution_count": 25,
   "metadata": {},
   "outputs": [
    {
     "name": "stdout",
     "output_type": "stream",
     "text": [
      "5\n"
     ]
    },
    {
     "data": {
      "text/plain": [
       "2"
      ]
     },
     "execution_count": 25,
     "metadata": {},
     "output_type": "execute_result"
    }
   ],
   "source": [
    "def solution(sides):\n",
    "    print(sum([i for i in sides if i != max(sides)]))\n",
    "    return 1 if max(sides) < sum([i for i in sides if i != max(sides)]) else 2\n",
    "\n",
    "solution([5,2,3])"
   ]
  },
  {
   "cell_type": "code",
   "execution_count": null,
   "metadata": {},
   "outputs": [],
   "source": [
    "def solution(numbers):\n",
    "    numbers.sort(reverse=True)\n",
    "    print(numbers)\n",
    "    return numbers[0]*numbers[1]"
   ]
  },
  {
   "cell_type": "code",
   "execution_count": 32,
   "metadata": {},
   "outputs": [],
   "source": [
    "def solution(my_string, letter):\n",
    "    return list(my_string).remove(letter)\n",
    "\n",
    "solution(\"ArithmeticError\", \"r\")"
   ]
  }
 ],
 "metadata": {
  "kernelspec": {
   "display_name": "Python 3",
   "language": "python",
   "name": "python3"
  },
  "language_info": {
   "codemirror_mode": {
    "name": "ipython",
    "version": 3
   },
   "file_extension": ".py",
   "mimetype": "text/x-python",
   "name": "python",
   "nbconvert_exporter": "python",
   "pygments_lexer": "ipython3",
   "version": "3.10.9"
  },
  "orig_nbformat": 4,
  "vscode": {
   "interpreter": {
    "hash": "289875fdc8c4a136dc00cf3b2d1981cae4a14e1f2e4e26c543272292905058a0"
   }
  }
 },
 "nbformat": 4,
 "nbformat_minor": 2
}
