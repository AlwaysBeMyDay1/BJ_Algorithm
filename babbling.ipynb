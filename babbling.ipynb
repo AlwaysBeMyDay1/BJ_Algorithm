{
 "cells": [
  {
   "attachments": {},
   "cell_type": "markdown",
   "metadata": {},
   "source": [
    "### 옹알이\n",
    "##### 문제 설명\n",
    "머쓱이는 태어난 지 6개월 된 조카를 돌보고 있습니다. 조카는 아직 \"aya\", \"ye\", \"woo\", \"ma\" 네 가지 발음을 최대 한 번씩 사용해 조합한(이어 붙인) 발음밖에 하지 못합니다. 문자열 배열 babbling이 매개변수로 주어질 때, 머쓱이의 조카가 발음할 수 있는 단어의 개수를 return하도록 solution 함수를 완성해주세요.\n",
    "\n",
    "##### 제한사항\n",
    "1 ≤ babbling의 길이 ≤ 100\n",
    "\n",
    "1 ≤ babbling[i]의 길이 ≤ 15\n",
    "\n",
    "babbling의 각 문자열에서 \"aya\", \"ye\", \"woo\", \"ma\"는 각각 최대 한 번씩만 등장합니다.\n",
    "\n",
    "즉, 각 문자열의 가능한 모든 부분 문자열 중에서 \"aya\", \"ye\", \"woo\", \"ma\"가 한 번씩만 등장합니다.\n",
    "\n",
    "문자열은 알파벳 소문자로만 이루어져 있습니다.\n",
    "\n",
    "##### 입출력 예\n",
    "|babbling|result|\n",
    "|-|-|\n",
    "|[\"aya\", \"yee\", \"u\", \"maa\", \"wyeoo\"]|1|\n",
    "|[\"ayaye\", \"uuuma\", \"ye\", \"yemawoo\", \"ayaa\"]|3|"
   ]
  },
  {
   "cell_type": "code",
   "execution_count": 51,
   "metadata": {},
   "outputs": [
    {
     "data": {
      "text/plain": [
       "2"
      ]
     },
     "execution_count": 51,
     "metadata": {},
     "output_type": "execute_result"
    }
   ],
   "source": [
    "def solution(babbling):\n",
    "    possible_list = [\"aya\", \"ye\", \"woo\", \"ma\"]\n",
    "    answer = []\n",
    "    for x in babbling:\n",
    "        new_text = x\n",
    "        for y in possible_list:\n",
    "            if y in x:\n",
    "                new_text = new_text.replace(y, ' ', 1)\n",
    "        if new_text.strip() == '':\n",
    "            answer.append(x)\n",
    "    return len(answer)\n",
    "\n",
    "\n",
    "solution([\"ayaye\", \"uuuma\", \"ye\", \"yemawooye\", \"ayaa\"])"
   ]
  },
  {
   "cell_type": "code",
   "execution_count": null,
   "metadata": {},
   "outputs": [],
   "source": [
    "\n",
    "def solution(babbling):\n",
    "    possible_list = [\"aya\", \"ye\", \"woo\", \"ma\"]\n",
    "    for x in babbling:\n",
    "        print(babbling)\n",
    "        print(f\"<><><>{x}<><><>\")\n",
    "        for y in possible_list:\n",
    "            print(x)\n",
    "            x.replace(y, '')\n",
    "            print(x)\n",
    "        if x != '':\n",
    "            babbling.remove(x)\n",
    "\n",
    "    print(babbling)\n",
    "    return len(babbling)"
   ]
  }
 ],
 "metadata": {
  "kernelspec": {
   "display_name": "Python 3",
   "language": "python",
   "name": "python3"
  },
  "language_info": {
   "codemirror_mode": {
    "name": "ipython",
    "version": 3
   },
   "file_extension": ".py",
   "mimetype": "text/x-python",
   "name": "python",
   "nbconvert_exporter": "python",
   "pygments_lexer": "ipython3",
   "version": "3.10.9"
  },
  "orig_nbformat": 4,
  "vscode": {
   "interpreter": {
    "hash": "289875fdc8c4a136dc00cf3b2d1981cae4a14e1f2e4e26c543272292905058a0"
   }
  }
 },
 "nbformat": 4,
 "nbformat_minor": 2
}
