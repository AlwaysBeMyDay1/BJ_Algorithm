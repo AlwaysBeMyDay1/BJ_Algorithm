{
 "cells": [
  {
   "attachments": {},
   "cell_type": "markdown",
   "metadata": {},
   "source": [
    "(ref)\n",
    "\n",
    "https://blockdmask.tistory.com/53"
   ]
  },
  {
   "attachments": {},
   "cell_type": "markdown",
   "metadata": {},
   "source": [
    "# vers.1\n",
    "GCD(최대공약수) 직접 구하는 방법"
   ]
  },
  {
   "cell_type": "code",
   "execution_count": 9,
   "metadata": {},
   "outputs": [
    {
     "data": {
      "text/plain": [
       "[5.0, 4.0]"
      ]
     },
     "execution_count": 9,
     "metadata": {},
     "output_type": "execute_result"
    }
   ],
   "source": [
    "def solution(denum1, num1, denum2, num2):\n",
    "    denum3 = denum1*num2 + denum2*num1\n",
    "    num3 = num1*num2\n",
    "    \n",
    "    big_num = denum3 if denum3 > num3 else num3\n",
    "    gcd = 1\n",
    "    for i in range(big_num,0,-1):\n",
    "        if denum3%i == 0 and num3%i == 0:\n",
    "            gcd = i\n",
    "            break\n",
    "    \n",
    "    return [denum3/gcd, num3/gcd]\n",
    "\n",
    "solution(1,2,3,4)"
   ]
  },
  {
   "attachments": {},
   "cell_type": "markdown",
   "metadata": {},
   "source": [
    "# vers.2\n",
    "Recursive(재귀)를 활용한 GCD 구하기"
   ]
  },
  {
   "cell_type": "code",
   "execution_count": 8,
   "metadata": {},
   "outputs": [
    {
     "data": {
      "text/plain": [
       "[178, 99]"
      ]
     },
     "execution_count": 8,
     "metadata": {},
     "output_type": "execute_result"
    }
   ],
   "source": [
    "def gcd(a, b):\n",
    "    if a%b == 0:\n",
    "        return b\n",
    "    else:\n",
    "        return gcd(b, a%b)\n",
    "\n",
    "def solution(denum1, num1, denum2, num2):\n",
    "    numerater = denum1*num2 + denum2*num1\n",
    "    denominator = num1*num2\n",
    "\n",
    "    gcd_num = gcd(numerater, denominator)\n",
    "\n",
    "    return [int(numerater/gcd_num), int(denominator/gcd_num)]\n",
    "\n",
    "solution(8,9,10,11)"
   ]
  }
 ],
 "metadata": {
  "kernelspec": {
   "display_name": "Python 3",
   "language": "python",
   "name": "python3"
  },
  "language_info": {
   "codemirror_mode": {
    "name": "ipython",
    "version": 3
   },
   "file_extension": ".py",
   "mimetype": "text/x-python",
   "name": "python",
   "nbconvert_exporter": "python",
   "pygments_lexer": "ipython3",
   "version": "3.10.9"
  },
  "orig_nbformat": 4,
  "vscode": {
   "interpreter": {
    "hash": "289875fdc8c4a136dc00cf3b2d1981cae4a14e1f2e4e26c543272292905058a0"
   }
  }
 },
 "nbformat": 4,
 "nbformat_minor": 2
}
