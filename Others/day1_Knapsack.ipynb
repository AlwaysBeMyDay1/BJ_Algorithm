{
 "cells": [
  {
   "cell_type": "code",
   "execution_count": 11,
   "metadata": {},
   "outputs": [
    {
     "name": "stdout",
     "output_type": "stream",
     "text": [
      "14\n"
     ]
    }
   ],
   "source": [
    "n, k = map(int, input().split())\n",
    "stuffs = {}\n",
    "for i in range(n):\n",
    "    w, v = map(int, input().split())\n",
    "    stuffs[w] = v\n",
    "\n",
    "# {6:13, 4:8, 3;6, 5:12}\n",
    "\n",
    "def cir_num(arr, n):\n",
    "    results = []\n",
    "\n",
    "    if n == 1:\n",
    "        for i in arr:\n",
    "            results.append([i])\n",
    "    elif n == len(arr):\n",
    "        results.append(arr)\n",
    "    elif 1 < n < len(arr):\n",
    "        for i in arr:\n",
    "            idx = arr.index(i)\n",
    "            last_idx = idx + n\n",
    "            if last_idx > len(arr):\n",
    "                break\n",
    "            else:\n",
    "                results.append(arr[idx:last_idx])\n",
    "    \n",
    "    return results\n",
    "\n",
    "results = []\n",
    "for i in range(n):\n",
    "    results += cir_num(list(stuffs.keys()), i+1)\n",
    "\n",
    "sum_result = {}\n",
    "for result in results:\n",
    "    sum_w = 0\n",
    "    sum_v = 0\n",
    "    for ins in result:\n",
    "        sum_w += ins\n",
    "        sum_v += stuffs[ins]\n",
    "    sum_result[sum_w] = sum_v\n",
    "\n",
    "sorted_sum_result = sorted(sum_result.items(), key = lambda item:item[1], reverse=True)\n",
    "\n",
    "for i in sorted_sum_result:\n",
    "    if i[0]<=k:\n",
    "        print(i[1])\n",
    "        break"
   ]
  },
  {
   "cell_type": "code",
   "execution_count": 10,
   "metadata": {},
   "outputs": [
    {
     "name": "stdout",
     "output_type": "stream",
     "text": [
      "14\n"
     ]
    }
   ],
   "source": [
    "N, K = map(int, input().split())\n",
    "stuff = [[0,0]]\n",
    "knapsack = [[0 for _ in range(K + 1)] for _ in range(N + 1)]\n",
    "\n",
    "for _ in range(N):\n",
    "    stuff.append(list(map(int, input().split())))\n",
    "\n",
    "\n",
    "#냅색 문제 풀이\n",
    "for i in range(1, N + 1):\n",
    "    for j in range(1, K + 1):\n",
    "        weight = stuff[i][0] \n",
    "        value = stuff[i][1]\n",
    "       \n",
    "        if j < weight:\n",
    "            knapsack[i][j] = knapsack[i - 1][j] #weight보다 작으면 위의 값을 그대로 가져온다\n",
    "        else:\n",
    "            knapsack[i][j] = max(value + knapsack[i - 1][j - weight], knapsack[i - 1][j])\n",
    "\n",
    "print(knapsack[N][K])"
   ]
  }
 ],
 "metadata": {
  "kernelspec": {
   "display_name": "Python 3.8.8 ('base')",
   "language": "python",
   "name": "python3"
  },
  "language_info": {
   "codemirror_mode": {
    "name": "ipython",
    "version": 3
   },
   "file_extension": ".py",
   "mimetype": "text/x-python",
   "name": "python",
   "nbconvert_exporter": "python",
   "pygments_lexer": "ipython3",
   "version": "3.8.8"
  },
  "orig_nbformat": 4,
  "vscode": {
   "interpreter": {
    "hash": "40d3a090f54c6569ab1632332b64b2c03c39dcf918b08424e98f38b5ae0af88f"
   }
  }
 },
 "nbformat": 4,
 "nbformat_minor": 2
}
