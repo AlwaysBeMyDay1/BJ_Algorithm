{
 "cells": [
  {
   "attachments": {},
   "cell_type": "markdown",
   "metadata": {},
   "source": [
    "## 최빈값(mode) 구하기\n",
    "##### 문제 설명\n",
    "최빈값은 주어진 값 중에서 가장 자주 나오는 값을 의미합니다. 정수 배열 array가 매개변수로 주어질 때, 최빈값을 return 하도록 solution 함수를 완성해보세요. 최빈값이 여러 개면 -1을 return 합니다.\n",
    "\n",
    "##### 제한사항\n",
    "0 < array의 길이 < 100\n",
    "\n",
    "0 ≤ array의 원소 < 1000\n",
    "\n",
    "##### 입출력 예\n",
    "array / result\n",
    "\n",
    "[1, 2, 3, 3, 3, 4] / 3\n",
    "\n",
    "[1, 1, 2, 2] / -1\n",
    "\n",
    "[1] / 1"
   ]
  },
  {
   "cell_type": "code",
   "execution_count": 17,
   "metadata": {},
   "outputs": [
    {
     "data": {
      "text/plain": [
       "-1"
      ]
     },
     "execution_count": 17,
     "metadata": {},
     "output_type": "execute_result"
    }
   ],
   "source": [
    "# vers.1\n",
    "\n",
    "def solution(array):\n",
    "    result_dict = {}\n",
    "    for i in array:\n",
    "        if i in result_dict.keys():\n",
    "            result_dict[i] += 1\n",
    "        else:\n",
    "            result_dict[i] = 1\n",
    "    \n",
    "    max_value = max(result_dict.values())\n",
    "\n",
    "    if list(result_dict.values()).count(max_value) != 1:\n",
    "        return -1\n",
    "    else:\n",
    "        result_mode = [k for k, v in result_dict.items() if v == max_value]\n",
    "        return result_mode[0]\n",
    "\n",
    "solution([1,1,2,2])"
   ]
  },
  {
   "cell_type": "code",
   "execution_count": 32,
   "metadata": {},
   "outputs": [
    {
     "data": {
      "text/plain": [
       "2"
      ]
     },
     "execution_count": 32,
     "metadata": {},
     "output_type": "execute_result"
    }
   ],
   "source": [
    "# vers.2\n",
    "\n",
    "def solution(array):\n",
    "    while len(array) != 0:\n",
    "        for i,a in enumerate(set(array)):\n",
    "            array.remove(a)\n",
    "        if i == 0: return a\n",
    "    return -1\n",
    "\n",
    "solution([1,1,2,2,2])"
   ]
  }
 ],
 "metadata": {
  "kernelspec": {
   "display_name": "Python 3",
   "language": "python",
   "name": "python3"
  },
  "language_info": {
   "codemirror_mode": {
    "name": "ipython",
    "version": 3
   },
   "file_extension": ".py",
   "mimetype": "text/x-python",
   "name": "python",
   "nbconvert_exporter": "python",
   "pygments_lexer": "ipython3",
   "version": "3.10.9"
  },
  "orig_nbformat": 4,
  "vscode": {
   "interpreter": {
    "hash": "289875fdc8c4a136dc00cf3b2d1981cae4a14e1f2e4e26c543272292905058a0"
   }
  }
 },
 "nbformat": 4,
 "nbformat_minor": 2
}
