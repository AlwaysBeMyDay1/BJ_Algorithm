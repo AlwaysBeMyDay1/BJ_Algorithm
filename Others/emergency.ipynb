{
 "cells": [
  {
   "attachments": {},
   "cell_type": "markdown",
   "metadata": {},
   "source": [
    "### 진료 순서 정하기\n",
    "\n",
    "##### 문제 설명\n",
    "외과의사 머쓱이는 응급실에 온 환자의 응급도를 기준으로 진료 순서를 정하려고 합니다. 정수 배열 emergency가 매개변수로 주어질 때 응급도가 높은 순서대로 진료 순서를 정한 배열을 return하도록 solution 함수를 완성해주세요.\n",
    "\n",
    "##### 제한사항\n",
    "중복된 원소는 없습니다.\n",
    "1 ≤ emergency의 길이 ≤ 10\n",
    "1 ≤ emergency의 원소 ≤ 100\n",
    "\n",
    "##### 입출력 예\n",
    "|emergency|result|\n",
    "|-|-|\n",
    "|[3, 76, 24]|[3, 1, 2]|\n",
    "|[1, 2, 3, 4, 5, 6, 7]|[7, 6, 5, 4, 3, 2, 1]|\n",
    "|[30, 10, 23, 6, 100]|[2, 4, 3, 5, 1]|"
   ]
  },
  {
   "cell_type": "code",
   "execution_count": 1,
   "metadata": {},
   "outputs": [
    {
     "data": {
      "text/plain": [
       "[3, 1, 2]"
      ]
     },
     "execution_count": 1,
     "metadata": {},
     "output_type": "execute_result"
    }
   ],
   "source": [
    "def solution(emergency):\n",
    "    answer = {}\n",
    "    # 응급도 높은 순서대로 정렬하기\n",
    "    # enumerate 돌리며 딕셔너리에 응급도(key)와 진료 순서(value) 기록\n",
    "    for i, x in enumerate(sorted(emergency, reverse=True)):\n",
    "        answer[x] = i + 1\n",
    "    # emergency 돌며 딕셔너리[응급도]로 응급도를 진료 순서로 변환\n",
    "    return [answer[x] for x in emergency]\n",
    "\n",
    "solution([3, 76, 24])"
   ]
  },
  {
   "cell_type": "code",
   "execution_count": 2,
   "metadata": {},
   "outputs": [
    {
     "data": {
      "text/plain": [
       "[3, 1, 2]"
      ]
     },
     "execution_count": 2,
     "metadata": {},
     "output_type": "execute_result"
    }
   ],
   "source": [
    "# vers.2 .index로 찾기\n",
    "def solution(emergency):\n",
    "    return [sorted(emergency, reverse=True).index(e) + 1 for e in emergency]\n",
    "\n",
    "solution([3, 76, 24])"
   ]
  }
 ],
 "metadata": {
  "kernelspec": {
   "display_name": "Python 3",
   "language": "python",
   "name": "python3"
  },
  "language_info": {
   "codemirror_mode": {
    "name": "ipython",
    "version": 3
   },
   "file_extension": ".py",
   "mimetype": "text/x-python",
   "name": "python",
   "nbconvert_exporter": "python",
   "pygments_lexer": "ipython3",
   "version": "3.10.9"
  },
  "orig_nbformat": 4,
  "vscode": {
   "interpreter": {
    "hash": "289875fdc8c4a136dc00cf3b2d1981cae4a14e1f2e4e26c543272292905058a0"
   }
  }
 },
 "nbformat": 4,
 "nbformat_minor": 2
}
